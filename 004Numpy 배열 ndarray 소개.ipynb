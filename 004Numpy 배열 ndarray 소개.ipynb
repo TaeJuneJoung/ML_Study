{
 "cells": [
  {
   "cell_type": "markdown",
   "metadata": {},
   "source": [
    "# Numpy\n",
    "\n",
    "ndarry: N차원(Dimension) 배열(Array) 객체"
   ]
  },
  {
   "cell_type": "code",
   "execution_count": 2,
   "metadata": {},
   "outputs": [],
   "source": [
    "#ndarray 생성\n",
    "import numpy as np\n",
    "array1 = np.array([1,2,3])\n",
    "array2 = np.array([[1,2,3], [2,3,4]])"
   ]
  },
  {
   "cell_type": "code",
   "execution_count": 3,
   "metadata": {},
   "outputs": [
    {
     "name": "stdout",
     "output_type": "stream",
     "text": [
      "[1 2 3]\n",
      "[[1 2 3]\n",
      " [2 3 4]]\n"
     ]
    }
   ],
   "source": [
    "print(array1) #1차원 Shape(3,)\n",
    "print(array2) #2차원 Shape(2,3)"
   ]
  },
  {
   "cell_type": "markdown",
   "metadata": {},
   "source": [
    "ndarray의 **shape**는 `ndarray.shape` 속성으로, **차원**은 `ndarray.ndim` 속성으로 알 수 있다.\n",
    "\n",
    "**ndarray내의 데이터 타입은 그 연산의 특성상 같은 데이터 타입만 가능하다.** 즉, 한 개의 ndarray객체에 int와 float가 함께 있을 수 없다.\n",
    "ndarray내의 데이터 타입은 `ndarray.dtype`으로 확인할 수 있다.\n",
    "\n",
    "\n",
    "## ndarry 타입 변환\n",
    "**astype()**을 이용\n",
    "- 변경을 원하는 타입을 astype()에 인자로 입력\n",
    "- 대용량 데이터를 ndarray로 만들 때 메모리를 절약하기 위해 자주 사용\n",
    "    0,1,2와 같이 크지 않는 범위의 숫자를 위해서 64bit float형 보다는 8bit 또는 16bit의 integer형으로 변환하는 것이 훨씬 메모리를 많이 절약하게 된다.\n",
    "\n",
    "**대용량 데이터를 다룰시에는 메모리 절약을 위해서 형변환을 고려해야한다.**\n",
    "\n",
    "\n",
    "## Numpy ndarray의 axis축\n",
    "axis 0 행 / axis 1 열 / axis 2 3차원 축(z축)"
   ]
  },
  {
   "cell_type": "code",
   "execution_count": 8,
   "metadata": {},
   "outputs": [
    {
     "name": "stdout",
     "output_type": "stream",
     "text": [
      "list type <class 'list'>\n",
      "array1 type <class 'numpy.ndarray'>\n",
      "array1 shape: (3,)\n",
      "array2 type <class 'numpy.ndarray'>\n",
      "array2 shape: (2, 3)\n",
      "array3 type <class 'numpy.ndarray'>\n",
      "array3 shape: (1, 3)\n",
      "1번:1차원, 2번:2차원, 3번:2차원\n"
     ]
    }
   ],
   "source": [
    "import numpy as np\n",
    "\n",
    "list1 = [1,2,3]\n",
    "print('list type', type(list1))\n",
    "\n",
    "array1 = np.array(list1)\n",
    "print('array1 type', type(array1))\n",
    "print('array1 shape:', array1.shape)\n",
    "\n",
    "array2 = np.array([[1,2,3], [2,3,4]])\n",
    "print('array2 type', type(array2))\n",
    "print('array2 shape:', array2.shape)\n",
    "\n",
    "array3 = np.array([[1,2,3]])\n",
    "print('array3 type', type(array3))\n",
    "print('array3 shape:', array3.shape)\n",
    "\n",
    "print(f'1번:{array1.ndim}차원, 2번:{array2.ndim}차원, 3번:{array3.ndim}차원')"
   ]
  },
  {
   "cell_type": "code",
   "execution_count": 11,
   "metadata": {},
   "outputs": [
    {
     "name": "stdout",
     "output_type": "stream",
     "text": [
      "int32\n",
      "<U11\n",
      "[1. 2. 3.]\n"
     ]
    }
   ],
   "source": [
    "# 데이터 타입\n",
    "print(array1.dtype)\n",
    "\n",
    "#데이터 타입이 자동변환된다.\n",
    "test_array = np.array([1, 2, 'test']) #int -> <U11\n",
    "print(test_array)\n",
    "\n",
    "test_array = np.array([1, 2, 3.0]) #int -> float\n",
    "print(test_array)"
   ]
  },
  {
   "cell_type": "markdown",
   "metadata": {},
   "source": [
    "### astype()을 통한 타입 변환"
   ]
  },
  {
   "cell_type": "code",
   "execution_count": 13,
   "metadata": {},
   "outputs": [
    {
     "name": "stdout",
     "output_type": "stream",
     "text": [
      "float64\n"
     ]
    }
   ],
   "source": [
    "array_int = np.array([1,2,3])\n",
    "array_float = array_int.astype('float64')\n",
    "print(array_float.dtype)"
   ]
  },
  {
   "cell_type": "markdown",
   "metadata": {},
   "source": [
    "### ndarray에서 axis 기반의 연산함수 수행"
   ]
  },
  {
   "cell_type": "code",
   "execution_count": 14,
   "metadata": {},
   "outputs": [
    {
     "name": "stdout",
     "output_type": "stream",
     "text": [
      "15\n",
      "[3 5 7]\n",
      "[6 9]\n"
     ]
    }
   ],
   "source": [
    "array_axios = np.array([[1,2,3], [2,3,4]])\n",
    "\n",
    "print(array_axios.sum()) #전체 더하기\n",
    "print(array_axios.sum(axis=0)) #x방향(행)\n",
    "print(array_axios.sum(axis=1)) #y방향(열)"
   ]
  },
  {
   "cell_type": "markdown",
   "metadata": {},
   "source": [
    "## ndarray 편리하게 생성하기\n",
    ":주로 테스트용으로 데이터를 만들거나 대규모의 데이터를 일괄적으로 초기화해야할 경우 사용\n",
    "- arange()\n",
    "- zeros()\n",
    "- ones()"
   ]
  },
  {
   "cell_type": "code",
   "execution_count": 17,
   "metadata": {},
   "outputs": [
    {
     "name": "stdout",
     "output_type": "stream",
     "text": [
      "[0 1 2 3 4 5 6 7 8 9]\n",
      "int32 (10,)\n",
      "[[0 0]\n",
      " [0 0]\n",
      " [0 0]]\n",
      "int32 (3, 2)\n",
      "[[1. 1.]\n",
      " [1. 1.]\n",
      " [1. 1.]]\n",
      "float64 (3, 2)\n"
     ]
    }
   ],
   "source": [
    "# arange()\n",
    "sequence_array = np.arange(10)\n",
    "print(sequence_array)\n",
    "print(sequence_array.dtype, sequence_array.shape)\n",
    "\n",
    "# zeros()\n",
    "zero_array = np.zeros((3,2), dtype='int32')\n",
    "print(zero_array)\n",
    "print(zero_array.dtype, zero_array.shape)\n",
    "\n",
    "# ones()\n",
    "one_array = np.ones((3,2))\n",
    "print(one_array)\n",
    "print(one_array.dtype, one_array.shape)"
   ]
  },
  {
   "cell_type": "markdown",
   "metadata": {},
   "source": [
    "## ndarray의 차원과 크기를 변경하는 reshape()\n",
    "reshape(-1, 5): 인자에 -1을 부여하면 -1에 해당하는 axis의 크기는 가변적이되 -1이 아닌 인자값에 해당하는 axis 크기는 인자값으로 고정되어 ndarray의 shape를 변환\n",
    "\n",
    "reshape(-1, -1)은 사용할 수 없다."
   ]
  },
  {
   "cell_type": "code",
   "execution_count": 20,
   "metadata": {},
   "outputs": [
    {
     "name": "stdout",
     "output_type": "stream",
     "text": [
      "[0 1 2 3 4 5 6 7 8 9]\n",
      "[[0 1 2 3 4]\n",
      " [5 6 7 8 9]]\n",
      "[[0 1]\n",
      " [2 3]\n",
      " [4 5]\n",
      " [6 7]\n",
      " [8 9]]\n"
     ]
    }
   ],
   "source": [
    "# reshape()\n",
    "array1 = np.arange(10)\n",
    "print(array1)\n",
    "\n",
    "array2 = array1.reshape(2, 5)\n",
    "print(array2)\n",
    "\n",
    "array3 = array1.reshape(5, 2)\n",
    "print(array3)"
   ]
  },
  {
   "cell_type": "markdown",
   "metadata": {},
   "source": [
    "reshape()에 -1 인자값을 부여하여 특정 차원으로 고정된 가변적인 ndarray형태 변환"
   ]
  },
  {
   "cell_type": "code",
   "execution_count": 24,
   "metadata": {},
   "outputs": [
    {
     "name": "stdout",
     "output_type": "stream",
     "text": [
      "[0 1 2 3 4 5 6 7 8 9]\n",
      "[[0 1 2 3 4]\n",
      " [5 6 7 8 9]]\n",
      "[[0 1]\n",
      " [2 3]\n",
      " [4 5]\n",
      " [6 7]\n",
      " [8 9]]\n",
      "[[0]\n",
      " [1]\n",
      " [2]\n",
      " [3]\n",
      " [4]\n",
      " [5]\n",
      " [6]\n",
      " [7]\n",
      " [8]\n",
      " [9]]\n",
      "(10, 1) 2\n",
      "[0 1 2 3 4 5 6 7 8 9]\n",
      "(10,) 1\n"
     ]
    }
   ],
   "source": [
    "array1 = np.arange(10)\n",
    "print(array1)\n",
    "\n",
    "array2 = array1.reshape(-1, 5)\n",
    "print(array2)\n",
    "\n",
    "array3 = array1.reshape(5, -1)\n",
    "print(array3)\n",
    "\n",
    "array2d_1 = array1.reshape(-1, 1)\n",
    "print(array2d_1)\n",
    "print(array2d_1.shape, array2d_1.ndim)\n",
    "\n",
    "array1d = array1.reshape(-1)\n",
    "print(array1d)\n",
    "print(array1d.shape, array1d.ndim)"
   ]
  }
 ],
 "metadata": {
  "kernelspec": {
   "display_name": "Python 3",
   "language": "python",
   "name": "python3"
  },
  "language_info": {
   "codemirror_mode": {
    "name": "ipython",
    "version": 3
   },
   "file_extension": ".py",
   "mimetype": "text/x-python",
   "name": "python",
   "nbconvert_exporter": "python",
   "pygments_lexer": "ipython3",
   "version": "3.7.3"
  }
 },
 "nbformat": 4,
 "nbformat_minor": 2
}

{
 "cells": [
  {
   "cell_type": "markdown",
   "metadata": {},
   "source": [
    "# Pandas Data 핸들링\n",
    "\n",
    "- list를 DataFrame 변환\n",
    "```python\n",
    "# col_name은 ['', '']를 이용하여 직접 입력해줘야함\n",
    "list_df = pd.DataFrame(list, columns=col_name)\n",
    "```\n",
    "\n",
    "- ndarray를 DataFrame 변환\n",
    "```python\n",
    "array_df = pd.DataFrame(array, columns=col_name)\n",
    "```\n",
    "\n",
    "- dict를 DataFrame 변환\n",
    "```python\n",
    "dict = {'test': [1,6], 'test2':[2,11]}\n",
    "dict_df = pd.DataFrame(dict)\n",
    "```\n",
    "\n",
    "- DataFrame을 list 변환\n",
    "\n",
    ": DataFrame객체의 values 속성을 이용하여 ndarray변환 후, tolist() 이용\n",
    "\n",
    "- DataFrame을 ndarray 변환\n",
    "\n",
    ": DataFrame객체의 values 속성을 이용하여 ndarray 변환\n",
    "\n",
    "- DataFrame을 dict 변환\n",
    "\n",
    ": DataFrame객체의 to_dict()를 이용"
   ]
  },
  {
   "cell_type": "code",
   "execution_count": null,
   "metadata": {},
   "outputs": [],
   "source": []
  },
  {
   "cell_type": "code",
   "execution_count": null,
   "metadata": {},
   "outputs": [],
   "source": []
  },
  {
   "cell_type": "code",
   "execution_count": null,
   "metadata": {},
   "outputs": [],
   "source": []
  },
  {
   "cell_type": "code",
   "execution_count": null,
   "metadata": {},
   "outputs": [],
   "source": []
  }
 ],
 "metadata": {
  "kernelspec": {
   "display_name": "Python 3",
   "language": "python",
   "name": "python3"
  },
  "language_info": {
   "codemirror_mode": {
    "name": "ipython",
    "version": 3
   },
   "file_extension": ".py",
   "mimetype": "text/x-python",
   "name": "python",
   "nbconvert_exporter": "python",
   "pygments_lexer": "ipython3",
   "version": "3.6.8"
  }
 },
 "nbformat": 4,
 "nbformat_minor": 2
}

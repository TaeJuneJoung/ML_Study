{
 "cells": [
  {
   "cell_type": "markdown",
   "metadata": {},
   "source": [
    "# Pandas Data 핸들링\n",
    "\n",
    "- list를 DataFrame 변환\n",
    "```python\n",
    "# col_name은 ['', '']를 이용하여 직접 입력해줘야함\n",
    "list_df = pd.DataFrame(list, columns=col_name)\n",
    "```\n",
    "\n",
    "- ndarray를 DataFrame 변환\n",
    "```python\n",
    "array_df = pd.DataFrame(array, columns=col_name)\n",
    "```\n",
    "\n",
    "- dict를 DataFrame 변환\n",
    "```python\n",
    "dict = {'test': [1,6], 'test2':[2,11]}\n",
    "dict_df = pd.DataFrame(dict)\n",
    "```\n",
    "\n",
    "- DataFrame을 list 변환\n",
    "\n",
    ": DataFrame객체의 values 속성을 이용하여 ndarray변환 후, tolist() 이용\n",
    "\n",
    "- DataFrame을 ndarray 변환\n",
    "\n",
    ": DataFrame객체의 values 속성을 이용하여 ndarray 변환\n",
    "\n",
    "- DataFrame을 dict 변환\n",
    "\n",
    ": DataFrame객체의 to_dict()를 이용"
   ]
  },
  {
   "cell_type": "markdown",
   "metadata": {},
   "source": [
    "### list / ndarray에서 DataFrame 변환"
   ]
  },
  {
   "cell_type": "code",
   "execution_count": 1,
   "metadata": {},
   "outputs": [
    {
     "name": "stdout",
     "output_type": "stream",
     "text": [
      "Shape: (3,)\n",
      "1차원 리스트로 만든 DataFrame:\n",
      "    col1\n",
      "0     1\n",
      "1     2\n",
      "2     3\n",
      "1차원 ndarray로 만든 DataFrame:\n",
      "    col1\n",
      "0     1\n",
      "1     2\n",
      "2     3\n"
     ]
    }
   ],
   "source": [
    "import numpy as np\n",
    "import pandas as pd\n",
    "\n",
    "col_name = ['col1']\n",
    "list1 = [1,2,3]\n",
    "array1 = np.array(list1)\n",
    "\n",
    "print('Shape:', array1.shape)\n",
    "df = pd.DataFrame(list1, columns=col_name)\n",
    "print('1차원 리스트로 만든 DataFrame:\\n', df)\n",
    "df = pd.DataFrame(array1, columns=col_name)\n",
    "print('1차원 ndarray로 만든 DataFrame:\\n', df)"
   ]
  },
  {
   "cell_type": "code",
   "execution_count": 2,
   "metadata": {},
   "outputs": [
    {
     "name": "stdout",
     "output_type": "stream",
     "text": [
      "Shape: (2, 3)\n",
      "2차원 리스트로 만든 DataFrame:\n",
      "    col1  col2  col3\n",
      "0     1     2     3\n",
      "1    11    12    13\n",
      "2차원 ndarray로 만든 DataFrame:\n",
      "    col1  col2  col3\n",
      "0     1     2     3\n",
      "1    11    12    13\n"
     ]
    }
   ],
   "source": [
    "col_name = ['col1', 'col2', 'col3']\n",
    "\n",
    "list2 = [[1,2,3], [11,12,13]]\n",
    "array2 = np.array(list2)\n",
    "\n",
    "print('Shape:', array2.shape)\n",
    "df = pd.DataFrame(list2, columns=col_name)\n",
    "print('2차원 리스트로 만든 DataFrame:\\n', df)\n",
    "df = pd.DataFrame(array2, columns=col_name)\n",
    "print('2차원 ndarray로 만든 DataFrame:\\n', df)"
   ]
  },
  {
   "cell_type": "markdown",
   "metadata": {},
   "source": [
    "### Dictionary에서 DataFrame 변환"
   ]
  },
  {
   "cell_type": "code",
   "execution_count": 3,
   "metadata": {},
   "outputs": [
    {
     "name": "stdout",
     "output_type": "stream",
     "text": [
      "Dictionary로 만든 DataFrame:\n",
      "    col1  col2  col3\n",
      "0     1     2     3\n",
      "1    11    12    13\n"
     ]
    }
   ],
   "source": [
    "dict1 = {'col1':[1,11], 'col2':[2,12], 'col3':[3,13]}\n",
    "df = pd.DataFrame(dict1)\n",
    "print('Dictionary로 만든 DataFrame:\\n', df)"
   ]
  },
  {
   "cell_type": "markdown",
   "metadata": {},
   "source": [
    "### DataFrame을 ndarray 변환"
   ]
  },
  {
   "cell_type": "code",
   "execution_count": 4,
   "metadata": {},
   "outputs": [
    {
     "name": "stdout",
     "output_type": "stream",
     "text": [
      "df values 타입: <class 'numpy.ndarray'> \n",
      "Shape: (2, 3)\n",
      "[[ 1  2  3]\n",
      " [11 12 13]]\n"
     ]
    }
   ],
   "source": [
    "array3 = df.values\n",
    "print('df values 타입:', type(array3), '\\nShape:', array3.shape)\n",
    "print(array3)"
   ]
  },
  {
   "cell_type": "markdown",
   "metadata": {},
   "source": [
    "### DataFrame을 List / Dict로 변환"
   ]
  },
  {
   "cell_type": "code",
   "execution_count": 5,
   "metadata": {},
   "outputs": [
    {
     "name": "stdout",
     "output_type": "stream",
     "text": [
      "df values 타입: <class 'list'>\n",
      "[[1, 2, 3], [11, 12, 13]]\n",
      "df values 타입: <class 'dict'>\n",
      "{'col1': [1, 11], 'col2': [2, 12], 'col3': [3, 13]}\n"
     ]
    }
   ],
   "source": [
    "# List\n",
    "list3 = df.values.tolist()\n",
    "print('df values 타입:', type(list3))\n",
    "print(list3)\n",
    "\n",
    "# Dictionary\n",
    "dict3 = df.to_dict('list')\n",
    "print('df values 타입:', type(dict3))\n",
    "print(dict3)"
   ]
  },
  {
   "cell_type": "markdown",
   "metadata": {},
   "source": [
    "## DataFrame의 컬럼 데이터 셋 Access\n",
    "DataFrame의 컬럼 데이터 세트 생성과 수정은 `[]` 연산자를 이용하여 쉽게 할 수 있다.<br/>새로운 컬럼에 값을 할당하려면 DataFrame[] 내에 새로운 컬럼명을 입력하고 값을 할당해주기만 하면 된다."
   ]
  },
  {
   "cell_type": "markdown",
   "metadata": {},
   "source": [
    "## DataFrame의 데이터 삭제\n",
    "```python\n",
    "DataFrame.drop(labels=None, axis=0, index=None, columns=None, level=None, inplace=False, errors='raise')\n",
    "```\n",
    "- axis: DataFrame의 row를 삭제할 때는 axis=0, colum 삭제 axis=1 설정\n",
    "- 원본 DataFrame 유지하고 drop된 DataFrame을 새롭게 객체 변수로 받고 싶다면 `inplace=False`로 설정(default->False)\n",
    "- 원본 DataFrame에 drop 결과 적용할 경우에는 inplace=True\n",
    "```python\n",
    "# 원본 DataFrame 적용 결과는 아래와 같음\n",
    "df = df.drop('Age_0', axis=1, inplace=False)\n",
    "# df.drop('Age_0', axis=1, inplace=True)\n",
    "```"
   ]
  },
  {
   "cell_type": "markdown",
   "metadata": {},
   "source": [
    "## Index\n",
    "- Pandas의 index객체는 DataFrame, Series의 레코드를 고유하게 식별하는 객체\n",
    "  <br/>index는 오직 식별용으로만 사용됨 \n",
    "- DataFrame, Series에서 Index객체만 추출하려면 DataFrame.index 또는 Series.index 속성을 통해 가능\n",
    "- reset_index() 메소드를 수행하면 새롭게 인덱스를 연속 숫자형으로 할당하며 기존 인덱스는 'index'라는 새로운 컬럼 명으로 추가됨"
   ]
  }
 ],
 "metadata": {
  "kernelspec": {
   "display_name": "Python 3",
   "language": "python",
   "name": "python3"
  },
  "language_info": {
   "codemirror_mode": {
    "name": "ipython",
    "version": 3
   },
   "file_extension": ".py",
   "mimetype": "text/x-python",
   "name": "python",
   "nbconvert_exporter": "python",
   "pygments_lexer": "ipython3",
   "version": "3.7.4"
  }
 },
 "nbformat": 4,
 "nbformat_minor": 2
}

{
 "cells": [
  {
   "cell_type": "markdown",
   "metadata": {},
   "source": [
    "# Aggregation 함수\n",
    "<br/>\n",
    "- sum(), max(), min(), count() 등의 함수는 DataFrame/Series에서 집합(Aggregation)연산 수행\n",
    "<br/><br/>\n",
    "- DataFrame의 경우 DataFrame에서 바로 aggregation을 호출할 경우 모든 컬럼에 해당 aggregation을 적용\n",
    "\n",
    "![axis에 따른 Aggregation 함수 결과](./assets/pandas_aggregation01.png)"
   ]
  },
  {
   "cell_type": "markdown",
   "metadata": {},
   "source": [
    "## DataFrame Group by\n",
    "\n",
    "- DataFrame은 Group by연산을 위해 groupby()메소드 제공\n",
    "- groupby()메소드는 by인자로 group by하려는 컬럼명을 입력 받으면 DataFrameGroupBy객체를 반환\n",
    "- 반환된 DataFrameGroupBy객체에 aggregation함수를 수행"
   ]
  },
  {
   "cell_type": "code",
   "execution_count": null,
   "metadata": {},
   "outputs": [],
   "source": []
  },
  {
   "cell_type": "code",
   "execution_count": null,
   "metadata": {},
   "outputs": [],
   "source": []
  }
 ],
 "metadata": {
  "kernelspec": {
   "display_name": "Python 3",
   "language": "python",
   "name": "python3"
  },
  "language_info": {
   "codemirror_mode": {
    "name": "ipython",
    "version": 3
   },
   "file_extension": ".py",
   "mimetype": "text/x-python",
   "name": "python",
   "nbconvert_exporter": "python",
   "pygments_lexer": "ipython3",
   "version": "3.7.4"
  }
 },
 "nbformat": 4,
 "nbformat_minor": 2
}

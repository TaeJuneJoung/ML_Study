{
 "cells": [
  {
   "cell_type": "markdown",
   "metadata": {},
   "source": [
    "# ndarray의 데이터 세트 선택하기 - 인덱싱(indexing)\n",
    "\n",
    "| 인덱싱 유형 | 설 명 |\n",
    "| ---- | ---- |\n",
    "| 특정 위치의 단일값 추출 | 원하는 위치의 인덱스 값을 지정하면 해당 위치의 데이터가 반환됨 |\n",
    "| 슬라이싱(Slicing) | 슬라이싱은 연속된 인덱스상의 ndarray를 추출하는 방식. `시작 인덱스:종료인덱스` 표시하면 시작 인덱스에서 종료 인덱스-1 위치에 있는 ndarray를 반환 |\n",
    "| 팬시 인덱싱(Fancy Indexing) | 일정한 인덱싱 집합을 리스트 또는 ndarray형태로 지정해 해당 위치에 있는 ndarray를 반환 |\n",
    "| **불린 인덱싱(Boolean Indexing)** | 특정 조건에 해당하는지 여부인 True/False 값 인덱싱 집합을 기반으로 True에 해당하는 인덱스 위치에 있는 ndarray를 반환 |\n",
    "\n"
   ]
  },
  {
   "cell_type": "markdown",
   "metadata": {},
   "source": [
    "## 단일 인덱싱"
   ]
  },
  {
   "cell_type": "code",
   "execution_count": 1,
   "metadata": {},
   "outputs": [
    {
     "name": "stdout",
     "output_type": "stream",
     "text": [
      "[ 1  4  7 10 13 16 19 22 25]\n",
      "(9,)\n",
      "25\n",
      "[100   4   7  10  13  16  19  22  25]\n"
     ]
    }
   ],
   "source": [
    "import numpy as np\n",
    "\n",
    "array1d = np.arange(start=1, stop= 27, step=3)\n",
    "print(array1d)\n",
    "print(array1d.shape)\n",
    "\n",
    "# 단일 인덱싱\n",
    "print(array1d[-1])\n",
    "array1d[0] = 100\n",
    "print(array1d)"
   ]
  },
  {
   "cell_type": "code",
   "execution_count": 2,
   "metadata": {},
   "outputs": [
    {
     "name": "stdout",
     "output_type": "stream",
     "text": [
      "[[100   4   7]\n",
      " [ 10  13  16]\n",
      " [ 19  22  25]]\n",
      "100\n"
     ]
    }
   ],
   "source": [
    "array2d = array1d.reshape(3,3)\n",
    "print(array2d)\n",
    "\n",
    "print(array2d[0,0])"
   ]
  },
  {
   "cell_type": "markdown",
   "metadata": {},
   "source": [
    "## 슬라이싱(Slicing)"
   ]
  },
  {
   "cell_type": "code",
   "execution_count": 3,
   "metadata": {},
   "outputs": [
    {
     "name": "stdout",
     "output_type": "stream",
     "text": [
      "[10 13 16]\n",
      "[[ 4  7]\n",
      " [13 16]]\n"
     ]
    }
   ],
   "source": [
    "print(array1d[3:6])\n",
    "print(array2d[0:2, 1:3])"
   ]
  },
  {
   "cell_type": "markdown",
   "metadata": {},
   "source": [
    "## 팬싱 인덱싱(fancy indexing)"
   ]
  },
  {
   "cell_type": "code",
   "execution_count": 4,
   "metadata": {},
   "outputs": [
    {
     "name": "stdout",
     "output_type": "stream",
     "text": [
      "[ 4 16]\n",
      "[[ 4  7]\n",
      " [13 16]]\n",
      "[[100   4   7]\n",
      " [ 10  13  16]]\n"
     ]
    }
   ],
   "source": [
    "print(array2d[[0,1], [1,2]])\n",
    "print(array2d[[0,1], 1:3])\n",
    "print(array2d[[0,1]])"
   ]
  },
  {
   "cell_type": "markdown",
   "metadata": {},
   "source": [
    "## 불린 인덱싱(Boolean indexing)"
   ]
  },
  {
   "cell_type": "code",
   "execution_count": 5,
   "metadata": {},
   "outputs": [
    {
     "name": "stdout",
     "output_type": "stream",
     "text": [
      "[100  22  25]\n",
      "[ True False False False False False False  True  True]\n",
      "<class 'numpy.ndarray'>\n",
      "[100  22  25]\n"
     ]
    }
   ],
   "source": [
    "\n",
    "\n",
    "\"\"\"\n",
    "array1d에서 20보다 큰 값을 출력하세요\n",
    "\"\"\"\n",
    "# 일반 인덱스\n",
    "target = []\n",
    "for i in range(len(array1d)):\n",
    "    if array1d[i] > 20:\n",
    "        target.append(array1d[i])\n",
    "array_result = np.array(target)\n",
    "print(array_result)\n",
    "\n",
    "\n",
    "\n",
    "print(array1d > 20) #불린 인덱싱 확인\n",
    "print(type(array1d > 20)) #타입 확인\n",
    "\n",
    "#불린 인덱싱\n",
    "print(array1d[array1d > 20])"
   ]
  }
 ],
 "metadata": {
  "kernelspec": {
   "display_name": "Python 3",
   "language": "python",
   "name": "python3"
  },
  "language_info": {
   "codemirror_mode": {
    "name": "ipython",
    "version": 3
   },
   "file_extension": ".py",
   "mimetype": "text/x-python",
   "name": "python",
   "nbconvert_exporter": "python",
   "pygments_lexer": "ipython3",
   "version": "3.7.3"
  }
 },
 "nbformat": 4,
 "nbformat_minor": 2
}

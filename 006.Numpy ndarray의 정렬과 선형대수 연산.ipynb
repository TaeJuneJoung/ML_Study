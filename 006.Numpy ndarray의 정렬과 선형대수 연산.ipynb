{
 "cells": [
  {
   "cell_type": "markdown",
   "metadata": {},
   "source": [
    "# Numpy 정렬과 선형대수 연산"
   ]
  },
  {
   "cell_type": "markdown",
   "metadata": {},
   "source": [
    "## 정렬\n",
    "\n",
    "### sort()\n",
    "Numpy sort() 유형\n",
    "- np.sort(): 원 행렬은 그대로 유지한 채 원 행렬의 정렬된 행렬을 반환\n",
    "- ndarray.sort(): 원 행렬 자체를 정렬한 형태로 변환하며 반환 값은 None\n",
    "\n",
    "<small>np.sort()나 ndarray.sort() 모두 기본적으로 오름차순으로 행렬 내 원소를 정렬. 내림차순으로 정렬하기 위해서는 **[::-1]**을 적용. np.sort()[::-1]과 같이 사용하면 된다.</small>"
   ]
  },
  {
   "cell_type": "markdown",
   "metadata": {},
   "source": [
    "#### 2차원 배열에서 axis 기반의 sort()"
   ]
  },
  {
   "cell_type": "code",
   "execution_count": 1,
   "metadata": {},
   "outputs": [
    {
     "name": "stdout",
     "output_type": "stream",
     "text": [
      "(2, 2)\n",
      "[[ 7  1]\n",
      " [ 8 12]]\n",
      "[[ 8 12]\n",
      " [ 1  7]]\n"
     ]
    }
   ],
   "source": [
    "import numpy as np\n",
    "\n",
    "data = np.array([[8,12],[7,1]])\n",
    "print(data.shape)\n",
    "\n",
    "#파이썬과 다르게 Numpy는 sort를 해도 원본값 유지\n",
    "#But, ndarray.sort()시에는 원본값이 변환됨\n",
    "print(np.sort(data, axis=0))\n",
    "\n",
    "print(np.sort(data, axis=1))"
   ]
  },
  {
   "cell_type": "code",
   "execution_count": 2,
   "metadata": {},
   "outputs": [
    {
     "name": "stdout",
     "output_type": "stream",
     "text": [
      "(2, 2)\n",
      "[[ 7  1]\n",
      " [ 8 12]]\n",
      "[[ 1  8]\n",
      " [ 7 12]]\n"
     ]
    }
   ],
   "source": [
    "data = np.array([[8,1],[7,12]])\n",
    "print(data.shape)\n",
    "\n",
    "print(np.sort(data, axis=0))\n",
    "\n",
    "print(np.sort(data, axis=1))"
   ]
  },
  {
   "cell_type": "markdown",
   "metadata": {},
   "source": [
    "### argsort()\n",
    "- 원본 행렬 정렬 시 정렬된 **행렬의 원래 인덱스를 필요로 할 때** np.argsort()를 이용. np.argsort()는 정렬 행렬의 원본 행렬 인덱스를 ndarray형으로 반환."
   ]
  },
  {
   "cell_type": "code",
   "execution_count": 3,
   "metadata": {},
   "outputs": [
    {
     "name": "stdout",
     "output_type": "stream",
     "text": [
      "[3 2 4 1 0]\n"
     ]
    }
   ],
   "source": [
    "data = np.array([5,4,2,1,3])\n",
    "print(np.argsort(data)) #정렬한 후 이전값이 가지던 인덱스 반환"
   ]
  },
  {
   "cell_type": "markdown",
   "metadata": {},
   "source": [
    "예시]<br/>\n",
    "key-value 형태의 데이터를 John=78, Mike=95, Sarah=84, Kate=98, Samuel=88을 ndarray로 만들고 argsort()를 이용하여 key값을 정렬"
   ]
  },
  {
   "cell_type": "code",
   "execution_count": 4,
   "metadata": {},
   "outputs": [
    {
     "name": "stdout",
     "output_type": "stream",
     "text": [
      "['John' 'Sarah' 'Samuel' 'Mike' 'Kate']\n",
      "[78 84 88 95 98]\n"
     ]
    }
   ],
   "source": [
    "person_name = np.array(['John', 'Mike', 'Sarah', 'Kate', 'Samuel'])\n",
    "score_value = np.array([78, 95, 84, 98, 88])\n",
    "\n",
    "score_arg = np.argsort(score_value)\n",
    "\n",
    "print(person_name[score_arg])\n",
    "print(score_value[score_arg])"
   ]
  },
  {
   "cell_type": "markdown",
   "metadata": {},
   "source": [
    "## 선형대수 연산\n",
    "\n",
    "### 행렬 내적\n",
    "\n",
    "#### np.dot(A, B)"
   ]
  },
  {
   "cell_type": "code",
   "execution_count": 5,
   "metadata": {},
   "outputs": [
    {
     "name": "stdout",
     "output_type": "stream",
     "text": [
      "[[ 58  64]\n",
      " [139 154]]\n"
     ]
    }
   ],
   "source": [
    "A = np.array([[1,2,3], [4,5,6]])\n",
    "B = np.array([[7,8], [9,10], [11,12]])\n",
    "\n",
    "print(np.dot(A, B))"
   ]
  },
  {
   "cell_type": "markdown",
   "metadata": {},
   "source": [
    "### 전치 행렬\n",
    "#### np.transpost(A)"
   ]
  },
  {
   "cell_type": "code",
   "execution_count": 6,
   "metadata": {},
   "outputs": [
    {
     "data": {
      "text/plain": [
       "array([[1, 3],\n",
       "       [2, 4]])"
      ]
     },
     "execution_count": 6,
     "metadata": {},
     "output_type": "execute_result"
    }
   ],
   "source": [
    "A = [[1,2], [3,4]]\n",
    "\n",
    "np.transpose(A)"
   ]
  },
  {
   "cell_type": "markdown",
   "metadata": {},
   "source": [
    "- 넘파이는 파이썬 머신러닝을 구성하는 핵심 기반으로 반드시 이해 필요\n",
    "\n",
    "- 넘파이 API는 매우 넓은 범위를 다루고 있으므로 머신러닝 애플리케이션을 작성할 때 중요하게 활용될 수 있는 핵심 개념 위주로 숙지하는 것이 좋다\n",
    "\n",
    "- 넘파이는 판다스에 비해서 친절한 API를 제공하지 않는다. **2차원의 데이터라면 데이터 가공을 위해서 Pandas를 이용하는 것이 효율적**이다."
   ]
  }
 ],
 "metadata": {
  "kernelspec": {
   "display_name": "Python 3",
   "language": "python",
   "name": "python3"
  },
  "language_info": {
   "codemirror_mode": {
    "name": "ipython",
    "version": 3
   },
   "file_extension": ".py",
   "mimetype": "text/x-python",
   "name": "python",
   "nbconvert_exporter": "python",
   "pygments_lexer": "ipython3",
   "version": "3.6.8"
  }
 },
 "nbformat": 4,
 "nbformat_minor": 2
}
